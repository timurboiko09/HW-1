{
 "cells": [
  {
   "cell_type": "markdown",
   "id": "3d997b13-2f64-4868-9662-68a412f5289a",
   "metadata": {},
   "source": [
    "# Data Science Tools and Ecosystem"
   ]
  },
  {
   "cell_type": "markdown",
   "id": "3cbba660-05f9-415a-b00e-efa6bd4fad9e",
   "metadata": {},
   "source": [
    "In this notebook, Data Science Tools and Ecosystem are summarized"
   ]
  },
  {
   "cell_type": "markdown",
   "id": "c3f341b9-a9cc-4643-96d6-1275bf8c5cb6",
   "metadata": {},
   "source": [
    "**Objectives**\n",
    "\n",
    "- Cell\n",
    "- Markdown\n",
    "- Code\n",
    "- Expression"
   ]
  },
  {
   "cell_type": "markdown",
   "id": "1154bd78-d996-486d-b59f-af9046ac5b60",
   "metadata": {},
   "source": [
    "Some of the popular languages that Data Scientists use are:\n",
    "1. Python\n",
    "2. R\n",
    "3. Scala\n",
    "4. Julia"
   ]
  },
  {
   "cell_type": "markdown",
   "id": "02d43bbc-4bf8-435c-a79a-ae456377d619",
   "metadata": {},
   "source": [
    "Some of the commonly used libraries used by Data Scientists include:\n",
    "1. NumPy\n",
    "2. Keras\n",
    "3. PyTorch\n",
    "4. Pandasch."
   ]
  },
  {
   "cell_type": "markdown",
   "id": "82e2841f-aff0-43ea-968e-902a2756290d",
   "metadata": {},
   "source": [
    "| Data Science Tools |\n",
    "|-------------------|\n",
    "| Apache Hadoop |\n",
    "| Apcache Spark |\n",
    "| Pandas |\n",
    " \n"
   ]
  },
  {
   "cell_type": "markdown",
   "id": "e95e6649-6ae1-4356-906c-9831ae98b608",
   "metadata": {},
   "source": [
    "### Below are a few expamples arithmetic exppresions in Python"
   ]
  },
  {
   "cell_type": "code",
   "execution_count": 7,
   "id": "202f4d8e-e5b0-4b4f-b46c-c77e3ef57119",
   "metadata": {},
   "outputs": [
    {
     "data": {
      "text/plain": [
       "17"
      ]
     },
     "execution_count": 7,
     "metadata": {},
     "output_type": "execute_result"
    }
   ],
   "source": [
    "(3*4)+5\n",
    "#This is a simple arithmetic expression to multiply then add integers"
   ]
  },
  {
   "cell_type": "code",
   "execution_count": 11,
   "id": "35f6a8a9-834e-417e-afe0-87798000f0d3",
   "metadata": {},
   "outputs": [
    {
     "data": {
      "text/plain": [
       "3.3333333333333335"
      ]
     },
     "execution_count": 11,
     "metadata": {},
     "output_type": "execute_result"
    }
   ],
   "source": [
    "200/60\n",
    "#This will conver 200 minutes to houes by dividing by 60"
   ]
  },
  {
   "cell_type": "markdown",
   "id": "287f2eab-7de8-4565-bf06-14b516201718",
   "metadata": {},
   "source": [
    "## Author\n",
    "Timur"
   ]
  },
  {
   "cell_type": "code",
   "execution_count": null,
   "id": "24a5cf11-9279-4fec-83b0-c61da147a81d",
   "metadata": {},
   "outputs": [],
   "source": []
  }
 ],
 "metadata": {
  "kernelspec": {
   "display_name": "Python 3 (ipykernel)",
   "language": "python",
   "name": "python3"
  },
  "language_info": {
   "codemirror_mode": {
    "name": "ipython",
    "version": 3
   },
   "file_extension": ".py",
   "mimetype": "text/x-python",
   "name": "python",
   "nbconvert_exporter": "python",
   "pygments_lexer": "ipython3",
   "version": "3.12.4"
  }
 },
 "nbformat": 4,
 "nbformat_minor": 5
}
